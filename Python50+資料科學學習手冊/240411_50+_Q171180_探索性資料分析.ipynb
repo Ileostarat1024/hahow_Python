{
 "cells": [
  {
   "cell_type": "markdown",
   "id": "heated-welding",
   "metadata": {
    "deletable": false
   },
   "source": [
    "# Python 的 50+ 練習：資料科學學習手冊\n",
    "\n",
    "> 探索性分析\n",
    "\n",
    "[數據交點](https://www.datainpoint.com) | 郭耀仁 <yaojenkuo@datainpoint.com>"
   ]
  },
  {
   "cell_type": "markdown",
   "id": "fleet-tokyo",
   "metadata": {
    "deletable": false
   },
   "source": [
    "## 練習題指引\n",
    "\n",
    "- 練習題閒置超過 10 分鐘會自動斷線，只要重新點選練習題連結即可重新啟動。\n",
    "- 第一個程式碼儲存格會將可能用得到的模組載入。\n",
    "- 如果練習題需要載入檔案，檔案存放絕對路徑為 `/home/jovyan/data`\n",
    "- 練習題已經給定函數、類別、預期輸入或參數名稱，我們只需要寫作程式區塊。同時也給定函數的類別提示，說明預期輸入以及預期輸出的類別。\n",
    "- 說明（Docstring）會描述測試如何進行，閱讀說明能夠暸解預期輸入以及預期輸出之間的關係，幫助我們更快解題。\n",
    "- 請在 `### BEGIN SOLUTION` 與 `### END SOLUTION` 這兩個註解之間寫作函數或者類別的程式區塊。\n",
    "- 將預期輸出放置在 `return` 保留字之後，若只是用 `print()` 函數將預期輸出印出無法通過測試。\n",
    "- 語法錯誤（`SyntaxError`）或縮排錯誤（`IndentationError`）等將會導致測試失效，測試之前應該先在筆記本使用函數觀察是否與說明（Docstring）描述的功能相符。\n",
    "- 如果卡關，可以先看練習題詳解或者複習課程單元影片之後再繼續寫作。\n",
    "- 執行測試的步驟：\n",
    "    1. 點選上方選單的 File -> Save Notebook 儲存 exercises.ipynb。\n",
    "    2. 點選上方選單的 File -> New -> Terminal 開啟終端機。\n",
    "    3. 在 Terminal 輸入 `cd ~` 切換回家目錄。\n",
    "    4. 在 Terminal 輸入 `python 19-exploration/test_runner.py` 後按下 Enter 執行測試。"
   ]
  },
  {
   "cell_type": "code",
   "execution_count": 1,
   "id": "collected-norwegian",
   "metadata": {},
   "outputs": [
    {
     "name": "stdout",
     "output_type": "stream",
     "text": [
      "Intel MKL WARNING: Support of Intel(R) Streaming SIMD Extensions 4.2 (Intel(R) SSE4.2) enabled only processors has been deprecated. Intel oneAPI Math Kernel Library 2025.0 will require Intel(R) Advanced Vector Extensions (Intel(R) AVX) instructions.\n",
      "Intel MKL WARNING: Support of Intel(R) Streaming SIMD Extensions 4.2 (Intel(R) SSE4.2) enabled only processors has been deprecated. Intel oneAPI Math Kernel Library 2025.0 will require Intel(R) Advanced Vector Extensions (Intel(R) AVX) instructions.\n"
     ]
    }
   ],
   "source": [
    "import pandas as pd\n",
    "import matplotlib.pyplot as plt\n",
    "from PIL import Image"
   ]
  },
  {
   "cell_type": "markdown",
   "id": "4ebdd825",
   "metadata": {},
   "source": [
    "## 171. 載入 `time_series_covid19_confirmed_global.csv`\n",
    "\n",
    "定義函數 `import_covid19_time_series_confirmed()` 將位於 `/home/jovyan/data/covid19` 路徑的 `time_series_covid19_confirmed_global.csv` 載入。\n",
    "\n",
    "- 運用絕對路徑。\n",
    "- 使用 `pd.read_csv()` 函數。\n",
    "- 將預期輸出寫在 `return` 之後。"
   ]
  },
  {
   "cell_type": "code",
   "execution_count": 4,
   "id": "d6ddcd00",
   "metadata": {},
   "outputs": [],
   "source": [
    "def import_covid19_time_series_confirmed() -> pd.core.frame.DataFrame:\n",
    "    \"\"\"\n",
    "    >>> covid19_time_series_confirmed = import_covid19_time_series_confirmed()\n",
    "    >>> covid19_time_series_confirmed.shape\n",
    "    (280, 735)\n",
    "    \"\"\"\n",
    "    ### BEGIN SOLUTION\n",
    "    path = '/Users/yitinglu/Documents/PythonCourses/data/time_series_covid19_confirmed_global.csv'\n",
    "    data = pd.read_csv(path)\n",
    "    return data\n",
    "    ### END SOLUTION"
   ]
  },
  {
   "cell_type": "code",
   "execution_count": 6,
   "id": "71f68c12",
   "metadata": {},
   "outputs": [
    {
     "data": {
      "text/html": [
       "<div>\n",
       "<style scoped>\n",
       "    .dataframe tbody tr th:only-of-type {\n",
       "        vertical-align: middle;\n",
       "    }\n",
       "\n",
       "    .dataframe tbody tr th {\n",
       "        vertical-align: top;\n",
       "    }\n",
       "\n",
       "    .dataframe thead th {\n",
       "        text-align: right;\n",
       "    }\n",
       "</style>\n",
       "<table border=\"1\" class=\"dataframe\">\n",
       "  <thead>\n",
       "    <tr style=\"text-align: right;\">\n",
       "      <th></th>\n",
       "      <th>Province/State</th>\n",
       "      <th>Country/Region</th>\n",
       "      <th>Lat</th>\n",
       "      <th>Long</th>\n",
       "      <th>1/22/20</th>\n",
       "      <th>1/23/20</th>\n",
       "      <th>1/24/20</th>\n",
       "      <th>1/25/20</th>\n",
       "      <th>1/26/20</th>\n",
       "      <th>1/27/20</th>\n",
       "      <th>...</th>\n",
       "      <th>1/12/22</th>\n",
       "      <th>1/13/22</th>\n",
       "      <th>1/14/22</th>\n",
       "      <th>1/15/22</th>\n",
       "      <th>1/16/22</th>\n",
       "      <th>1/17/22</th>\n",
       "      <th>1/18/22</th>\n",
       "      <th>1/19/22</th>\n",
       "      <th>1/20/22</th>\n",
       "      <th>1/21/22</th>\n",
       "    </tr>\n",
       "  </thead>\n",
       "  <tbody>\n",
       "    <tr>\n",
       "      <th>0</th>\n",
       "      <td>NaN</td>\n",
       "      <td>Afghanistan</td>\n",
       "      <td>33.939110</td>\n",
       "      <td>67.709953</td>\n",
       "      <td>0</td>\n",
       "      <td>0</td>\n",
       "      <td>0</td>\n",
       "      <td>0</td>\n",
       "      <td>0</td>\n",
       "      <td>0</td>\n",
       "      <td>...</td>\n",
       "      <td>158511</td>\n",
       "      <td>158602</td>\n",
       "      <td>158639</td>\n",
       "      <td>158678</td>\n",
       "      <td>158717</td>\n",
       "      <td>158826</td>\n",
       "      <td>158974</td>\n",
       "      <td>159070</td>\n",
       "      <td>159303</td>\n",
       "      <td>159516</td>\n",
       "    </tr>\n",
       "    <tr>\n",
       "      <th>1</th>\n",
       "      <td>NaN</td>\n",
       "      <td>Albania</td>\n",
       "      <td>41.153300</td>\n",
       "      <td>20.168300</td>\n",
       "      <td>0</td>\n",
       "      <td>0</td>\n",
       "      <td>0</td>\n",
       "      <td>0</td>\n",
       "      <td>0</td>\n",
       "      <td>0</td>\n",
       "      <td>...</td>\n",
       "      <td>224569</td>\n",
       "      <td>226598</td>\n",
       "      <td>228777</td>\n",
       "      <td>230940</td>\n",
       "      <td>232637</td>\n",
       "      <td>233654</td>\n",
       "      <td>236486</td>\n",
       "      <td>239129</td>\n",
       "      <td>241512</td>\n",
       "      <td>244182</td>\n",
       "    </tr>\n",
       "    <tr>\n",
       "      <th>2</th>\n",
       "      <td>NaN</td>\n",
       "      <td>Algeria</td>\n",
       "      <td>28.033900</td>\n",
       "      <td>1.659600</td>\n",
       "      <td>0</td>\n",
       "      <td>0</td>\n",
       "      <td>0</td>\n",
       "      <td>0</td>\n",
       "      <td>0</td>\n",
       "      <td>0</td>\n",
       "      <td>...</td>\n",
       "      <td>223806</td>\n",
       "      <td>224383</td>\n",
       "      <td>224979</td>\n",
       "      <td>225484</td>\n",
       "      <td>226057</td>\n",
       "      <td>226749</td>\n",
       "      <td>227559</td>\n",
       "      <td>228918</td>\n",
       "      <td>230470</td>\n",
       "      <td>232325</td>\n",
       "    </tr>\n",
       "    <tr>\n",
       "      <th>3</th>\n",
       "      <td>NaN</td>\n",
       "      <td>Andorra</td>\n",
       "      <td>42.506300</td>\n",
       "      <td>1.521800</td>\n",
       "      <td>0</td>\n",
       "      <td>0</td>\n",
       "      <td>0</td>\n",
       "      <td>0</td>\n",
       "      <td>0</td>\n",
       "      <td>0</td>\n",
       "      <td>...</td>\n",
       "      <td>28899</td>\n",
       "      <td>28899</td>\n",
       "      <td>29888</td>\n",
       "      <td>29888</td>\n",
       "      <td>29888</td>\n",
       "      <td>29888</td>\n",
       "      <td>29888</td>\n",
       "      <td>29888</td>\n",
       "      <td>32201</td>\n",
       "      <td>33025</td>\n",
       "    </tr>\n",
       "    <tr>\n",
       "      <th>4</th>\n",
       "      <td>NaN</td>\n",
       "      <td>Angola</td>\n",
       "      <td>-11.202700</td>\n",
       "      <td>17.873900</td>\n",
       "      <td>0</td>\n",
       "      <td>0</td>\n",
       "      <td>0</td>\n",
       "      <td>0</td>\n",
       "      <td>0</td>\n",
       "      <td>0</td>\n",
       "      <td>...</td>\n",
       "      <td>91907</td>\n",
       "      <td>92581</td>\n",
       "      <td>93302</td>\n",
       "      <td>93524</td>\n",
       "      <td>93694</td>\n",
       "      <td>93974</td>\n",
       "      <td>94275</td>\n",
       "      <td>94779</td>\n",
       "      <td>95220</td>\n",
       "      <td>95676</td>\n",
       "    </tr>\n",
       "    <tr>\n",
       "      <th>...</th>\n",
       "      <td>...</td>\n",
       "      <td>...</td>\n",
       "      <td>...</td>\n",
       "      <td>...</td>\n",
       "      <td>...</td>\n",
       "      <td>...</td>\n",
       "      <td>...</td>\n",
       "      <td>...</td>\n",
       "      <td>...</td>\n",
       "      <td>...</td>\n",
       "      <td>...</td>\n",
       "      <td>...</td>\n",
       "      <td>...</td>\n",
       "      <td>...</td>\n",
       "      <td>...</td>\n",
       "      <td>...</td>\n",
       "      <td>...</td>\n",
       "      <td>...</td>\n",
       "      <td>...</td>\n",
       "      <td>...</td>\n",
       "      <td>...</td>\n",
       "    </tr>\n",
       "    <tr>\n",
       "      <th>275</th>\n",
       "      <td>NaN</td>\n",
       "      <td>Vietnam</td>\n",
       "      <td>14.058324</td>\n",
       "      <td>108.277199</td>\n",
       "      <td>0</td>\n",
       "      <td>2</td>\n",
       "      <td>2</td>\n",
       "      <td>2</td>\n",
       "      <td>2</td>\n",
       "      <td>2</td>\n",
       "      <td>...</td>\n",
       "      <td>1958719</td>\n",
       "      <td>1975444</td>\n",
       "      <td>1991484</td>\n",
       "      <td>2007862</td>\n",
       "      <td>2023546</td>\n",
       "      <td>2023546</td>\n",
       "      <td>2062128</td>\n",
       "      <td>2078087</td>\n",
       "      <td>2094802</td>\n",
       "      <td>2110737</td>\n",
       "    </tr>\n",
       "    <tr>\n",
       "      <th>276</th>\n",
       "      <td>NaN</td>\n",
       "      <td>West Bank and Gaza</td>\n",
       "      <td>31.952200</td>\n",
       "      <td>35.233200</td>\n",
       "      <td>0</td>\n",
       "      <td>0</td>\n",
       "      <td>0</td>\n",
       "      <td>0</td>\n",
       "      <td>0</td>\n",
       "      <td>0</td>\n",
       "      <td>...</td>\n",
       "      <td>473302</td>\n",
       "      <td>474234</td>\n",
       "      <td>474234</td>\n",
       "      <td>474234</td>\n",
       "      <td>474234</td>\n",
       "      <td>476328</td>\n",
       "      <td>477151</td>\n",
       "      <td>478084</td>\n",
       "      <td>479343</td>\n",
       "      <td>480583</td>\n",
       "    </tr>\n",
       "    <tr>\n",
       "      <th>277</th>\n",
       "      <td>NaN</td>\n",
       "      <td>Yemen</td>\n",
       "      <td>15.552727</td>\n",
       "      <td>48.516388</td>\n",
       "      <td>0</td>\n",
       "      <td>0</td>\n",
       "      <td>0</td>\n",
       "      <td>0</td>\n",
       "      <td>0</td>\n",
       "      <td>0</td>\n",
       "      <td>...</td>\n",
       "      <td>10220</td>\n",
       "      <td>10233</td>\n",
       "      <td>10233</td>\n",
       "      <td>10233</td>\n",
       "      <td>10252</td>\n",
       "      <td>10352</td>\n",
       "      <td>10408</td>\n",
       "      <td>10449</td>\n",
       "      <td>10507</td>\n",
       "      <td>10585</td>\n",
       "    </tr>\n",
       "    <tr>\n",
       "      <th>278</th>\n",
       "      <td>NaN</td>\n",
       "      <td>Zambia</td>\n",
       "      <td>-13.133897</td>\n",
       "      <td>27.849332</td>\n",
       "      <td>0</td>\n",
       "      <td>0</td>\n",
       "      <td>0</td>\n",
       "      <td>0</td>\n",
       "      <td>0</td>\n",
       "      <td>0</td>\n",
       "      <td>...</td>\n",
       "      <td>289415</td>\n",
       "      <td>291582</td>\n",
       "      <td>293695</td>\n",
       "      <td>295028</td>\n",
       "      <td>296132</td>\n",
       "      <td>296817</td>\n",
       "      <td>298032</td>\n",
       "      <td>299172</td>\n",
       "      <td>299971</td>\n",
       "      <td>300587</td>\n",
       "    </tr>\n",
       "    <tr>\n",
       "      <th>279</th>\n",
       "      <td>NaN</td>\n",
       "      <td>Zimbabwe</td>\n",
       "      <td>-19.015438</td>\n",
       "      <td>29.154857</td>\n",
       "      <td>0</td>\n",
       "      <td>0</td>\n",
       "      <td>0</td>\n",
       "      <td>0</td>\n",
       "      <td>0</td>\n",
       "      <td>0</td>\n",
       "      <td>...</td>\n",
       "      <td>224433</td>\n",
       "      <td>225084</td>\n",
       "      <td>225637</td>\n",
       "      <td>225637</td>\n",
       "      <td>226078</td>\n",
       "      <td>226460</td>\n",
       "      <td>226460</td>\n",
       "      <td>226887</td>\n",
       "      <td>227552</td>\n",
       "      <td>227961</td>\n",
       "    </tr>\n",
       "  </tbody>\n",
       "</table>\n",
       "<p>280 rows × 735 columns</p>\n",
       "</div>"
      ],
      "text/plain": [
       "    Province/State      Country/Region        Lat        Long  1/22/20  \\\n",
       "0              NaN         Afghanistan  33.939110   67.709953        0   \n",
       "1              NaN             Albania  41.153300   20.168300        0   \n",
       "2              NaN             Algeria  28.033900    1.659600        0   \n",
       "3              NaN             Andorra  42.506300    1.521800        0   \n",
       "4              NaN              Angola -11.202700   17.873900        0   \n",
       "..             ...                 ...        ...         ...      ...   \n",
       "275            NaN             Vietnam  14.058324  108.277199        0   \n",
       "276            NaN  West Bank and Gaza  31.952200   35.233200        0   \n",
       "277            NaN               Yemen  15.552727   48.516388        0   \n",
       "278            NaN              Zambia -13.133897   27.849332        0   \n",
       "279            NaN            Zimbabwe -19.015438   29.154857        0   \n",
       "\n",
       "     1/23/20  1/24/20  1/25/20  1/26/20  1/27/20  ...  1/12/22  1/13/22  \\\n",
       "0          0        0        0        0        0  ...   158511   158602   \n",
       "1          0        0        0        0        0  ...   224569   226598   \n",
       "2          0        0        0        0        0  ...   223806   224383   \n",
       "3          0        0        0        0        0  ...    28899    28899   \n",
       "4          0        0        0        0        0  ...    91907    92581   \n",
       "..       ...      ...      ...      ...      ...  ...      ...      ...   \n",
       "275        2        2        2        2        2  ...  1958719  1975444   \n",
       "276        0        0        0        0        0  ...   473302   474234   \n",
       "277        0        0        0        0        0  ...    10220    10233   \n",
       "278        0        0        0        0        0  ...   289415   291582   \n",
       "279        0        0        0        0        0  ...   224433   225084   \n",
       "\n",
       "     1/14/22  1/15/22  1/16/22  1/17/22  1/18/22  1/19/22  1/20/22  1/21/22  \n",
       "0     158639   158678   158717   158826   158974   159070   159303   159516  \n",
       "1     228777   230940   232637   233654   236486   239129   241512   244182  \n",
       "2     224979   225484   226057   226749   227559   228918   230470   232325  \n",
       "3      29888    29888    29888    29888    29888    29888    32201    33025  \n",
       "4      93302    93524    93694    93974    94275    94779    95220    95676  \n",
       "..       ...      ...      ...      ...      ...      ...      ...      ...  \n",
       "275  1991484  2007862  2023546  2023546  2062128  2078087  2094802  2110737  \n",
       "276   474234   474234   474234   476328   477151   478084   479343   480583  \n",
       "277    10233    10233    10252    10352    10408    10449    10507    10585  \n",
       "278   293695   295028   296132   296817   298032   299172   299971   300587  \n",
       "279   225637   225637   226078   226460   226460   226887   227552   227961  \n",
       "\n",
       "[280 rows x 735 columns]"
      ]
     },
     "execution_count": 6,
     "metadata": {},
     "output_type": "execute_result"
    }
   ],
   "source": [
    "# covid19_time_series_confirmed = import_covid19_time_series_confirmed()\n",
    "# covid19_time_series_confirmed.shape\n",
    "covid19_time_series_confirmed"
   ]
  },
  {
   "cell_type": "markdown",
   "id": "b64956cc",
   "metadata": {},
   "source": [
    "## 172. 確診人數前十多的國家\n",
    "\n",
    "定義函數 `find_top_ten_confirmed_by_country_region()` 選擇 `1/21/22`，並依照 `Country/Region` 變數加總後排序得到確診人數前十多的國家。\n",
    "\n",
    "- 使用 `import_covid19_time_series_confirmed()` 函數。\n",
    "- 運用選擇欄位技巧。\n",
    "- 運用分組聚合技巧。\n",
    "- 運用排序技巧。\n",
    "- 運用 Fancy indexing\n",
    "- 將預期輸出寫在 `return` 之後。"
   ]
  },
  {
   "cell_type": "code",
   "execution_count": 39,
   "id": "d52fb9af",
   "metadata": {},
   "outputs": [],
   "source": [
    "def find_top_ten_confirmed_by_country_region() -> pd.core.series.Series:\n",
    "    \"\"\"\n",
    "    >>> top_ten_confirmed_by_country_region = find_top_ten_confirmed_by_country_region()\n",
    "    >>> top_ten_confirmed_by_country_region\n",
    "    Country/Region\n",
    "    Germany            8635461\n",
    "    Spain              8975458\n",
    "    Italy              9603856\n",
    "    Russia            10804032\n",
    "    Turkey            10808770\n",
    "    United Kingdom    15814617\n",
    "    France            16116748\n",
    "    Brazil            23766499\n",
    "    India             38903731\n",
    "    US                70209840\n",
    "    Name: 1/21/22, dtype: int64\n",
    "    \"\"\"\n",
    "    ### BEGIN SOLUTION\n",
    "    data = import_covid19_time_series_confirmed()\n",
    "    data = data.loc[:, ['Country/Region','1/21/22']]\n",
    "    data = data.sort_values(['1/21/22'], ascending = False)\n",
    "    data = data.head(10)\n",
    "    data = data.sort_values(['1/21/22'], ascending = True)\n",
    "    data_series = data.set_index('Country/Region', drop = True).squeeze()\n",
    "    return data_series\n",
    "    ### END SOLUTION"
   ]
  },
  {
   "cell_type": "code",
   "execution_count": 40,
   "id": "e0be8f20",
   "metadata": {},
   "outputs": [
    {
     "data": {
      "text/plain": [
       "Country/Region\n",
       "Germany            8635461\n",
       "Spain              8975458\n",
       "Italy              9603856\n",
       "Russia            10804032\n",
       "Turkey            10808770\n",
       "France            15652063\n",
       "United Kingdom    15709059\n",
       "Brazil            23766499\n",
       "India             38903731\n",
       "US                70209840\n",
       "Name: 1/21/22, dtype: int64"
      ]
     },
     "execution_count": 40,
     "metadata": {},
     "output_type": "execute_result"
    }
   ],
   "source": [
    "# top_ten_confirmed_by_country_region = find_top_ten_confirmed_by_country_region()\n",
    "# top_ten_confirmed_by_country_region"
   ]
  },
  {
   "cell_type": "markdown",
   "id": "4afe87c4",
   "metadata": {},
   "source": [
    "## 173. 用水平長條圖視覺化確診人數前十多的國家\n",
    "\n",
    "定義函數 `export_top_ten_confirmed_by_country_region()` 將確診人數前十多的國家輸出為水平長條圖，圖檔名為 `confirmed_barh.png`。\n",
    "\n",
    "![](confirmed_barh.jpg)\n",
    "\n",
    "- 使用 `find_top_ten_confirmed_by_country_region()` 函數。\n",
    "- 使用 `plt.subplots()` 函數。\n",
    "- 使用 `AxesSubplot.barh()`\n",
    "- 使用 `fig.savefig()`"
   ]
  },
  {
   "cell_type": "code",
   "execution_count": 60,
   "id": "d3cba527",
   "metadata": {},
   "outputs": [],
   "source": [
    "def export_top_ten_confirmed_by_country_region() -> None:\n",
    "    \"\"\"\n",
    "    >>> export_top_ten_confirmed_by_country_region()\n",
    "    >>> im = Image.open(\"confirmed_barh.png\")\n",
    "    >>> im.format\n",
    "    'PNG'\n",
    "    \"\"\"\n",
    "    ### BEGIN SOLUTION\n",
    "    data = find_top_ten_confirmed_by_country_region()\n",
    "    fig, ax = plt.subplots()\n",
    "    ax.barh(data.index, data.values) #記得在一維的Series中，可以直接用index或是values指名\n",
    "    fig.savefig('confirmed_barh.png')\n",
    "    ### END SOLUTION"
   ]
  },
  {
   "cell_type": "code",
   "execution_count": 62,
   "id": "850682de",
   "metadata": {},
   "outputs": [
    {
     "data": {
      "text/plain": [
       "'PNG'"
      ]
     },
     "execution_count": 62,
     "metadata": {},
     "output_type": "execute_result"
    },
    {
     "data": {
      "image/png": "[encoded data removed]",
      "text/plain": [
       "<Figure size 640x480 with 1 Axes>"
      ]
     },
     "metadata": {},
     "output_type": "display_data"
    }
   ],
   "source": [
    "# export_top_ten_confirmed_by_country_region()\n",
    "# im = Image.open(\"confirmed_barh.png\")\n",
    "# im.format"
   ]
  },
  {
   "cell_type": "markdown",
   "id": "8025406c",
   "metadata": {},
   "source": [
    "## 174. 載入 `time_series_covid19_deaths_global.csv`\n",
    "\n",
    "定義函數 `import_covid19_time_series_deaths()` 將位於 `/home/jovyan/data/covid19` 路徑的 `time_series_covid19_deaths_global.csv` 載入。\n",
    "\n",
    "- 運用絕對路徑。\n",
    "- 使用 `pd.read_csv()` 函數。\n",
    "- 將預期輸出寫在 `return` 之後。"
   ]
  },
  {
   "cell_type": "code",
   "execution_count": 63,
   "id": "8c340d7c",
   "metadata": {},
   "outputs": [],
   "source": [
    "def import_covid19_time_series_deaths() -> pd.core.frame.DataFrame:\n",
    "    \"\"\"\n",
    "    >>> covid19_time_series_deaths = import_covid19_time_series_deaths()\n",
    "    >>> covid19_time_series_deaths.shape\n",
    "    (280, 735)\n",
    "    \"\"\"\n",
    "    ### BEGIN SOLUTION\n",
    "    path = '/Users/yitinglu/Documents/PythonCourses/data/time_series_covid19_deaths_global.csv'\n",
    "    data = pd.read_csv(path)\n",
    "    return data\n",
    "    ### END SOLUTION"
   ]
  },
  {
   "cell_type": "code",
   "execution_count": 64,
   "id": "d613d3d2",
   "metadata": {},
   "outputs": [
    {
     "data": {
      "text/plain": [
       "(280, 735)"
      ]
     },
     "execution_count": 64,
     "metadata": {},
     "output_type": "execute_result"
    }
   ],
   "source": [
    "# covid19_time_series_deaths = import_covid19_time_series_deaths()\n",
    "# covid19_time_series_deaths.shape"
   ]
  },
  {
   "cell_type": "markdown",
   "id": "e4b28491",
   "metadata": {},
   "source": [
    "## 175. 死亡人數前十多的國家\n",
    "\n",
    "定義函數 `find_top_ten_deaths_by_country_region()` 選擇 `1/21/22`，並依照 `Country/Region` 變數加總後排序得到死亡人數前十多的國家。\n",
    "\n",
    "- 使用 `import_covid19_time_series_deaths()` 函數。\n",
    "- 運用選擇欄位技巧。\n",
    "- 運用分組聚合技巧。\n",
    "- 運用排序技巧。\n",
    "- 運用 Fancy indexing\n",
    "- 將預期輸出寫在 `return` 之後。"
   ]
  },
  {
   "cell_type": "code",
   "execution_count": 78,
   "id": "a76faa0a",
   "metadata": {},
   "outputs": [],
   "source": [
    "def find_top_ten_deaths_by_country_region() -> pd.core.series.Series:\n",
    "    \"\"\"\n",
    "    >>> top_ten_deaths_by_country_region = find_top_ten_deaths_by_country_region()\n",
    "    >>> top_ten_deaths_by_country_region\n",
    "    Country/Region\n",
    "    Iran              132172\n",
    "    Italy             142963\n",
    "    Indonesia         144201\n",
    "    United Kingdom    154001\n",
    "    Peru              203994\n",
    "    Mexico            302721\n",
    "    Russia            318200\n",
    "    India             488884\n",
    "    Brazil            622875\n",
    "    US                864556\n",
    "    Name: 1/21/22, dtype: int64\n",
    "    \"\"\"\n",
    "    ### BEGIN SOLUTION\n",
    "    data = import_covid19_time_series_deaths()\n",
    "    data = data.groupby('Country/Region')['1/21/22'].sum()\n",
    "    data = data.sort_values(ascending=False)\n",
    "    data = data[0:10]\n",
    "    data = data.sort_values(ascending=True)\n",
    "    return data\n",
    "    ### END SOLUTION"
   ]
  },
  {
   "cell_type": "code",
   "execution_count": 79,
   "id": "816705a9",
   "metadata": {},
   "outputs": [
    {
     "data": {
      "text/plain": [
       "Country/Region\n",
       "Iran              132172\n",
       "Italy             142963\n",
       "Indonesia         144201\n",
       "United Kingdom    154001\n",
       "Peru              203994\n",
       "Mexico            302721\n",
       "Russia            318200\n",
       "India             488884\n",
       "Brazil            622875\n",
       "US                864556\n",
       "Name: 1/21/22, dtype: int64"
      ]
     },
     "execution_count": 79,
     "metadata": {},
     "output_type": "execute_result"
    }
   ],
   "source": [
    "# top_ten_deaths_by_country_region = find_top_ten_deaths_by_country_region()\n",
    "# top_ten_deaths_by_country_region"
   ]
  },
  {
   "cell_type": "markdown",
   "id": "4f367957",
   "metadata": {},
   "source": [
    "## 176. 用水平長條圖視覺化死亡人數前十多的國家\n",
    "\n",
    "定義函數 `export_top_ten_deaths_by_country_region()` 將死亡人數前十多的國家輸出為水平長條圖，圖檔名為 `deaths_barh.png`\n",
    "\n",
    "![](deaths_barh.jpg)\n",
    "\n",
    "- 使用 `find_top_ten_deaths_by_country_region()` 函數。\n",
    "- 使用 `plt.subplots()` 函數。\n",
    "- 使用 `AxesSubplot.barh()`\n",
    "- 使用 `fig.savefig()`"
   ]
  },
  {
   "cell_type": "code",
   "execution_count": 80,
   "id": "d7b3bd64",
   "metadata": {},
   "outputs": [],
   "source": [
    "def export_top_ten_deaths_by_country_region() -> None:\n",
    "    \"\"\"\n",
    "    >>> export_top_ten_deaths_by_country_region()\n",
    "    >>> im = Image.open(\"deaths_barh.png\")\n",
    "    >>> im.format\n",
    "    'PNG'\n",
    "    \"\"\"\n",
    "    ### BEGIN SOLUTION\n",
    "    data = find_top_ten_deaths_by_country_region()\n",
    "    fig, ax = plt.subplots()\n",
    "    ax.barh(data.index, data.values)\n",
    "    fig.savefig('deaths_barh.png')\n",
    "    ### END SOLUTION"
   ]
  },
  {
   "cell_type": "code",
   "execution_count": 81,
   "id": "5287dcb1",
   "metadata": {},
   "outputs": [
    {
     "data": {
      "text/plain": [
       "'PNG'"
      ]
     },
     "execution_count": 81,
     "metadata": {},
     "output_type": "execute_result"
    },
    {
     "data": {
      "image/png": "[encoded data removed]",
      "text/plain": [
       "<Figure size 640x480 with 1 Axes>"
      ]
     },
     "metadata": {},
     "output_type": "display_data"
    }
   ],
   "source": [
    "# export_top_ten_deaths_by_country_region()\n",
    "# im = Image.open(\"deaths_barh.png\")\n",
    "# im.format"
   ]
  },
  {
   "cell_type": "markdown",
   "id": "d73b75e5",
   "metadata": {},
   "source": [
    "## 177. 轉置日期欄位與確診數並以日期分組\n",
    "\n",
    "定義函數 `sum_confirmed_by_date()` 將 `time_series_covid19_confirmed_global.csv` 中 `Province/State`、`Country/Region`、`Lat`、`Long` 以外日期的欄位與其對應的確診數轉置為長格式的外觀，變數名稱分別取為 `Date`、`Confirmed`。依照 `Date` 變數分組加總 `Confirmed`，並且將 `Date` 轉換為 `DatetimeIndex`\n",
    "\n",
    "- 使用 `import_covid19_time_series_confirmed()` 函數。\n",
    "- 使用 `pd.melt()` 函數。\n",
    "- 運用分組聚合技巧。\n",
    "- 使用 `pd.to_datetime()` 函數。\n",
    "- 將預期輸出寫在 `return` 之後。"
   ]
  },
  {
   "cell_type": "code",
   "execution_count": 88,
   "id": "32a35810",
   "metadata": {},
   "outputs": [],
   "source": [
    "def sum_confirmed_by_date() -> pd.core.series.Series:\n",
    "    \"\"\"\n",
    "    >>> confirmed_by_date = sum_confirmed_by_date()\n",
    "    >>> confirmed_by_date\n",
    "    Date\n",
    "    2020-01-22          557\n",
    "    2020-01-23          655\n",
    "    2020-01-24          941\n",
    "    2020-01-25         1434\n",
    "    2020-01-26         2118\n",
    "                    ...    \n",
    "    2022-01-17    331071195\n",
    "    2022-01-18    334769899\n",
    "    2022-01-19    339002398\n",
    "    2022-01-20    342581803\n",
    "    2022-01-21    346464304\n",
    "    Name: Confirmed, Length: 731, dtype: int64\n",
    "    \"\"\"\n",
    "    ### BEGIN SOLUTION\n",
    "    data = import_covid19_time_series_confirmed()\n",
    "    id_Vars = ['Province/State','Country/Region','Lat','Long']\n",
    "    data_melt = pd.melt(data, id_vars=id_Vars, var_name='Date', value_name='Confirmed')\n",
    "    data_series = data_melt.groupby(['Date'])['Confirmed'].sum()\n",
    "    data_series.index = pd.to_datetime(data_series.index)\n",
    "    data_series = data_series.sort_index()\n",
    "    return data_series\n",
    "    ### END SOLUTION"
   ]
  },
  {
   "cell_type": "code",
   "execution_count": 89,
   "id": "0e55d92b",
   "metadata": {},
   "outputs": [
    {
     "data": {
      "text/plain": [
       "Date\n",
       "2020-01-22          557\n",
       "2020-01-23          655\n",
       "2020-01-24          941\n",
       "2020-01-25         1434\n",
       "2020-01-26         2118\n",
       "                ...    \n",
       "2022-01-17    331071195\n",
       "2022-01-18    334769899\n",
       "2022-01-19    339002398\n",
       "2022-01-20    342581803\n",
       "2022-01-21    346464304\n",
       "Name: Confirmed, Length: 731, dtype: int64"
      ]
     },
     "execution_count": 89,
     "metadata": {},
     "output_type": "execute_result"
    }
   ],
   "source": [
    "# confirmed_by_date = sum_confirmed_by_date()\n",
    "# confirmed_by_date"
   ]
  },
  {
   "cell_type": "markdown",
   "id": "9391767f",
   "metadata": {},
   "source": [
    "## 178. 轉置日期欄位與死亡數並以日期分組\n",
    "\n",
    "定義函數 `sum_deaths_by_date()` 將 `time_series_covid19_deaths_global.csv` 中 `Province/State`、`Country/Region`、`Lat`、`Long` 以外日期的欄位與其對應的死亡數轉置為長格式的外觀，變數名稱分別取為 `Date`、`Deaths`。依照 `Date` 變數分組加總 `Deaths`，並且將 `Date` 轉換為 `DatetimeIndex`\n",
    "\n",
    "- 使用 `import_covid19_time_series_deaths()` 函數。\n",
    "- 使用 `pd.melt()` 函數。\n",
    "- 運用分組聚合技巧。\n",
    "- 使用 `pd.to_datetime()` 函數。\n",
    "- 將預期輸出寫在 `return` 之後。"
   ]
  },
  {
   "cell_type": "code",
   "execution_count": 101,
   "id": "864da612",
   "metadata": {},
   "outputs": [],
   "source": [
    "def sum_deaths_by_date() -> pd.core.series.Series:\n",
    "    \"\"\"\n",
    "    >>> deaths_by_date = sum_deaths_by_date()\n",
    "    >>> deaths_by_date\n",
    "    Date\n",
    "    2020-01-22         17\n",
    "    2020-01-23         18\n",
    "    2020-01-24         26\n",
    "    2020-01-25         42\n",
    "    2020-01-26         56\n",
    "                   ...   \n",
    "    2022-01-17    5547087\n",
    "    2022-01-18    5555528\n",
    "    2022-01-19    5565940\n",
    "    2022-01-20    5575061\n",
    "    2022-01-21    5585224\n",
    "    Name: Deaths, Length: 731, dtype: int64\n",
    "    \"\"\"\n",
    "    ### BEGIN SOLUTION\n",
    "    data = import_covid19_time_series_deaths()\n",
    "    id_Vars = ['Province/State','Country/Region','Lat','Long']\n",
    "    data_df = pd.melt(data, id_vars=id_Vars, var_name='Date', value_name='Deaths')\n",
    "    data_series = data_df.groupby('Date')['Deaths'].sum()\n",
    "    data_series.index = pd.to_datetime(data_series.index)\n",
    "    data_series = data_series.sort_index()\n",
    "    return data_series\n",
    "    ### END SOLUTION"
   ]
  },
  {
   "cell_type": "code",
   "execution_count": 102,
   "id": "e357d476",
   "metadata": {},
   "outputs": [
    {
     "data": {
      "text/plain": [
       "Date\n",
       "2020-01-22         17\n",
       "2020-01-23         18\n",
       "2020-01-24         26\n",
       "2020-01-25         42\n",
       "2020-01-26         56\n",
       "               ...   \n",
       "2022-01-17    5547087\n",
       "2022-01-18    5555528\n",
       "2022-01-19    5565940\n",
       "2022-01-20    5575061\n",
       "2022-01-21    5585224\n",
       "Name: Deaths, Length: 731, dtype: int64"
      ]
     },
     "execution_count": 102,
     "metadata": {},
     "output_type": "execute_result"
    }
   ],
   "source": [
    "# deaths_by_date = sum_deaths_by_date()\n",
    "# deaths_by_date"
   ]
  },
  {
   "cell_type": "markdown",
   "id": "c239239e",
   "metadata": {},
   "source": [
    "## 179. 關聯確診數與死亡數\n",
    "\n",
    "定義函數 `merge_confirmed_deaths_series()` 利用日期將全球累計確診數與死亡數的時間序列關聯為一個 `DataFrame`\n",
    "\n",
    "- 使用 `sum_confirmed_by_date()` 函數。\n",
    "- 使用 `sum_deaths_by_date()` 函數。\n",
    "- 將預期輸出寫在 `return` 之後。"
   ]
  },
  {
   "cell_type": "code",
   "execution_count": 108,
   "id": "c409b016",
   "metadata": {},
   "outputs": [],
   "source": [
    "def merge_confirmed_deaths_series() -> pd.core.frame.DataFrame:\n",
    "    \"\"\"\n",
    "    >>> merged_confirmed_deaths = merge_confirmed_deaths_series()\n",
    "    >>> merged_confirmed_deaths\n",
    "                Confirmed   Deaths\n",
    "    Date                          \n",
    "    2020-01-22        557       17\n",
    "    2020-01-23        655       18\n",
    "    2020-01-24        941       26\n",
    "    2020-01-25       1434       42\n",
    "    2020-01-26       2118       56\n",
    "    ...               ...      ...\n",
    "    2022-01-17  331071195  5547087\n",
    "    2022-01-18  334769899  5555528\n",
    "    2022-01-19  339002398  5565940\n",
    "    2022-01-20  342581803  5575061\n",
    "    2022-01-21  346464304  5585224\n",
    "\n",
    "    [731 rows x 2 columns]\n",
    "    \"\"\"\n",
    "    ### BEGIN SOLUTION\n",
    "    data = pd.DataFrame({'Confirmed': sum_confirmed_by_date(), 'Deaths': sum_deaths_by_date()}) #會自動合併共同欄（index）\n",
    "    return data\n",
    "    ### END SOLUTION"
   ]
  },
  {
   "cell_type": "code",
   "execution_count": 109,
   "id": "673539e1",
   "metadata": {},
   "outputs": [
    {
     "data": {
      "text/html": [
       "<div>\n",
       "<style scoped>\n",
       "    .dataframe tbody tr th:only-of-type {\n",
       "        vertical-align: middle;\n",
       "    }\n",
       "\n",
       "    .dataframe tbody tr th {\n",
       "        vertical-align: top;\n",
       "    }\n",
       "\n",
       "    .dataframe thead th {\n",
       "        text-align: right;\n",
       "    }\n",
       "</style>\n",
       "<table border=\"1\" class=\"dataframe\">\n",
       "  <thead>\n",
       "    <tr style=\"text-align: right;\">\n",
       "      <th></th>\n",
       "      <th>Confirmed</th>\n",
       "      <th>Deaths</th>\n",
       "    </tr>\n",
       "    <tr>\n",
       "      <th>Date</th>\n",
       "      <th></th>\n",
       "      <th></th>\n",
       "    </tr>\n",
       "  </thead>\n",
       "  <tbody>\n",
       "    <tr>\n",
       "      <th>2020-01-22</th>\n",
       "      <td>557</td>\n",
       "      <td>17</td>\n",
       "    </tr>\n",
       "    <tr>\n",
       "      <th>2020-01-23</th>\n",
       "      <td>655</td>\n",
       "      <td>18</td>\n",
       "    </tr>\n",
       "    <tr>\n",
       "      <th>2020-01-24</th>\n",
       "      <td>941</td>\n",
       "      <td>26</td>\n",
       "    </tr>\n",
       "    <tr>\n",
       "      <th>2020-01-25</th>\n",
       "      <td>1434</td>\n",
       "      <td>42</td>\n",
       "    </tr>\n",
       "    <tr>\n",
       "      <th>2020-01-26</th>\n",
       "      <td>2118</td>\n",
       "      <td>56</td>\n",
       "    </tr>\n",
       "    <tr>\n",
       "      <th>...</th>\n",
       "      <td>...</td>\n",
       "      <td>...</td>\n",
       "    </tr>\n",
       "    <tr>\n",
       "      <th>2022-01-17</th>\n",
       "      <td>331071195</td>\n",
       "      <td>5547087</td>\n",
       "    </tr>\n",
       "    <tr>\n",
       "      <th>2022-01-18</th>\n",
       "      <td>334769899</td>\n",
       "      <td>5555528</td>\n",
       "    </tr>\n",
       "    <tr>\n",
       "      <th>2022-01-19</th>\n",
       "      <td>339002398</td>\n",
       "      <td>5565940</td>\n",
       "    </tr>\n",
       "    <tr>\n",
       "      <th>2022-01-20</th>\n",
       "      <td>342581803</td>\n",
       "      <td>5575061</td>\n",
       "    </tr>\n",
       "    <tr>\n",
       "      <th>2022-01-21</th>\n",
       "      <td>346464304</td>\n",
       "      <td>5585224</td>\n",
       "    </tr>\n",
       "  </tbody>\n",
       "</table>\n",
       "<p>731 rows × 2 columns</p>\n",
       "</div>"
      ],
      "text/plain": [
       "            Confirmed   Deaths\n",
       "Date                          \n",
       "2020-01-22        557       17\n",
       "2020-01-23        655       18\n",
       "2020-01-24        941       26\n",
       "2020-01-25       1434       42\n",
       "2020-01-26       2118       56\n",
       "...               ...      ...\n",
       "2022-01-17  331071195  5547087\n",
       "2022-01-18  334769899  5555528\n",
       "2022-01-19  339002398  5565940\n",
       "2022-01-20  342581803  5575061\n",
       "2022-01-21  346464304  5585224\n",
       "\n",
       "[731 rows x 2 columns]"
      ]
     },
     "execution_count": 109,
     "metadata": {},
     "output_type": "execute_result"
    }
   ],
   "source": [
    "merged_confirmed_deaths = merge_confirmed_deaths_series()\n",
    "merged_confirmed_deaths"
   ]
  },
  {
   "cell_type": "markdown",
   "id": "d90224ac",
   "metadata": {},
   "source": [
    "## 180. 用線圖視覺化全球累計確診數與死亡數的時間序列\n",
    "\n",
    "定義函數 `export_time_series_subplots()` 將全球累計確診數與死亡數的時間序列輸出為 `(1, 2)` 的子圖，圖檔名為 `time_series_subplots.png`\n",
    "\n",
    "![](time_series_subplots.jpg)\n",
    "\n",
    "- 使用 `merge_confirmed_deaths_series()` 函數。\n",
    "- 使用 `plt.subplots(1, 2, figsize=(15, 4))` 函數。\n",
    "- 運用繪製子圖技巧。\n",
    "- 使用 `AxesSubplot.plot()`\n",
    "- 使用 `AxesSubplot.set_title()`\n",
    "- 使用 `fig.savefig()`"
   ]
  },
  {
   "cell_type": "code",
   "execution_count": 124,
   "id": "8a0962b8",
   "metadata": {},
   "outputs": [],
   "source": [
    "def export_time_series_subplots() -> None:\n",
    "    \"\"\"\n",
    "    >>> export_time_series_subplots()\n",
    "    >>> im = Image.open(\"time_series_subplots.png\")\n",
    "    >>> im.format\n",
    "    'PNG'\n",
    "    \"\"\"\n",
    "    ### BEGIN SOLUTION\n",
    "    data = merge_confirmed_deaths_series()\n",
    "    fig, ax = plt.subplots(1,2, figsize=(15,4))\n",
    "    ax[0].plot(data.index ,data['Confirmed'], color='blue', label='Confirmed')\n",
    "    ax[0].legend(loc='upper center')\n",
    "    ax[1].plot(data.index ,data['Deaths'], color='red', label='Deaths')\n",
    "    ax[1].legend(loc='upper center')\n",
    "    ax[0].set_title('Time Series on Confirmed')\n",
    "    ax[1].set_title('Time Series on Deaths')\n",
    "    fig.savefig('time_series_subplots.png')\n",
    "    ### END SOLUTION"
   ]
  },
  {
   "cell_type": "code",
   "execution_count": 126,
   "id": "f360835b",
   "metadata": {},
   "outputs": [
    {
     "data": {
      "text/plain": [
       "'PNG'"
      ]
     },
     "execution_count": 126,
     "metadata": {},
     "output_type": "execute_result"
    },
    {
     "data": {
      "image/png": "[encoded data removed]",
      "text/plain": [
       "<Figure size 1500x400 with 2 Axes>"
      ]
     },
     "metadata": {},
     "output_type": "display_data"
    }
   ],
   "source": [
    "export_time_series_subplots()\n",
    "im = Image.open(\"time_series_subplots.png\")\n",
    "im.format"
   ]
  },
  {
   "cell_type": "code",
   "execution_count": null,
   "id": "e280dae4",
   "metadata": {},
   "outputs": [],
   "source": []
  }
 ],
 "metadata": {
  "kernelspec": {
   "display_name": "Python 3 (ipykernel)",
   "language": "python",
   "name": "python3"
  },
  "language_info": {
   "codemirror_mode": {
    "name": "ipython",
    "version": 3
   },
   "file_extension": ".py",
   "mimetype": "text/x-python",
   "name": "python",
   "nbconvert_exporter": "python",
   "pygments_lexer": "ipython3",
   "version": "3.9.7"
  }
 },
 "nbformat": 4,
 "nbformat_minor": 5
}
